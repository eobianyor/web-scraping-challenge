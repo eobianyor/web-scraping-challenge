{
 "cells": [
  {
   "cell_type": "markdown",
   "metadata": {},
   "source": [
    "# MARS CHALLENGE Splinter + BeautifulSoup\n",
    "\n",
    "Spliter is a Python module that allows us to automate standard browser interactions. Splinter is an abstraction layer that allows us to use python code to make use of a browser automation tool called Selenium. \n",
    "\n",
    "In this exercise, we'll demonstrate how we can use Splinter to scrape content from a page and then re-route to the next page and continue to scrape.\n",
    "\n",
    "- [Splinter Docs](https://splinter.readthedocs.io/en/latest/index.html)\n",
    "- [Info about the ChromeDriver](https://splinter.readthedocs.io/en/latest/drivers/chrome.html)"
   ]
  },
  {
   "cell_type": "markdown",
   "metadata": {},
   "source": [
    "### Import dependencies"
   ]
  },
  {
   "cell_type": "code",
   "execution_count": 79,
   "metadata": {},
   "outputs": [],
   "source": [
    "from splinter import Browser\n",
    "from bs4 import BeautifulSoup as bsoup\n",
    "\n",
    "# from bs4 import BeautifulSoup\n",
    "import requests\n",
    "import pymongo\n",
    "import datetime as dt\n",
    "import time\n",
    "import pandas as pd"
   ]
  },
  {
   "cell_type": "markdown",
   "metadata": {},
   "source": [
    "# Mac Users"
   ]
  },
  {
   "cell_type": "code",
   "execution_count": null,
   "metadata": {},
   "outputs": [],
   "source": [
    "# # identify location of chromedriver and store it as a variable\n",
    "# driverPath = !which chromedriver\n",
    "\n",
    "# # Setup configuration variables to enable Splinter to interact with browser\n",
    "# executable_path = {'executable_path': driverPath[0]}\n",
    "# browser = Browser('chrome', **executable_path, headless=False)"
   ]
  },
  {
   "cell_type": "markdown",
   "metadata": {},
   "source": []
  },
  {
   "cell_type": "markdown",
   "metadata": {},
   "source": [
    "# Windows Users\n",
    "\n",
    "Windows users will need to store the `chromedriver.exe` file in the same location as this _.ipynb_ file, or they will need to provide the path to the executable."
   ]
  },
  {
   "cell_type": "code",
   "execution_count": null,
   "metadata": {},
   "outputs": [],
   "source": [
    "# executable_path = {'executable_path': 'chromedriver.exe'}\n",
    "# browser = Browser('chrome', **executable_path, headless=False)"
   ]
  },
  {
   "cell_type": "markdown",
   "metadata": {},
   "source": [
    "### Define URL to scrape and inform the browser to visit the page and scrape news headlines"
   ]
  },
  {
   "cell_type": "code",
   "execution_count": 80,
   "metadata": {},
   "outputs": [],
   "source": [
    "executable_path = {'executable_path': 'chromedriver.exe'}\n",
    "browser = Browser('chrome', **executable_path, headless=False)"
   ]
  },
  {
   "cell_type": "code",
   "execution_count": 87,
   "metadata": {},
   "outputs": [],
   "source": [
    "url = 'https://mars.nasa.gov/news/?page=0&per_page=40&order=publish_date+desc%2Ccreated_at+desc&search=&category=19%2C165%2C184%2C204&blank_scope=Latest'\n",
    "browser.visit(url)\n",
    "html = browser.html\n",
    "soup = bsoup(html,'html.parser')"
   ]
  },
  {
   "cell_type": "code",
   "execution_count": 115,
   "metadata": {},
   "outputs": [
    {
     "data": {
      "text/plain": [
       "{'news_title': \"Mars Helicopter Attached to NASA's Perseverance Rover\",\n",
       " 'news_paragraph': \"Sometimes half measures can be a good thing – especially on a journey this long. The agency's latest rover only has about 146 million miles left to reach its destination.\"}"
      ]
     },
     "execution_count": 115,
     "metadata": {},
     "output_type": "execute_result"
    }
   ],
   "source": [
    "results = soup.find_all('div', class_=\"content_title\")\n",
    "title = (results[1].get_text().strip())\n",
    "results = browser.find_by_css('div[class=\"article_teaser_body\"]')\n",
    "paragraph = (results.text)\n",
    "\n",
    "NASA_News_dict = {}\n",
    "NASA_News_dict = {\"news_title\": title, \"news_paragraph\": paragraph}\n",
    "NASA_News_dict\n",
    "\n",
    "\n",
    "# results = browser.find_by_css('div[class=\"article_teaser_body\"]').text\n",
    "# results = soup.select_one(\"ul.item_list li.slide\")\n",
    "# results = soup.find(\"ul.item_list li.slide\")\n",
    "# news_title = results.find_all(\"div\", class_= \"content_title\").get_text()\n",
    "# news_para = results.find_all('div', class_='article_teaser_body').get_text()\n",
    "# news_title = results.find('div', class_='content_title').text\n",
    "\n",
    "# print(paragraph.text)\n",
    "# print(news_title)\n",
    "# print(news_para)"
   ]
  },
  {
   "cell_type": "markdown",
   "metadata": {},
   "source": [
    "### Define URL to scrape and inform the browser to visit the page and scrape featured image"
   ]
  },
  {
   "cell_type": "code",
   "execution_count": 2,
   "metadata": {},
   "outputs": [],
   "source": [
    "executable_path = {'executable_path': 'chromedriver.exe'}\n",
    "browser = Browser('chrome', **executable_path, headless=False)"
   ]
  },
  {
   "cell_type": "code",
   "execution_count": 3,
   "metadata": {},
   "outputs": [
    {
     "name": "stderr",
     "output_type": "stream",
     "text": [
      "C:\\ProgramData\\Anaconda3\\lib\\site-packages\\splinter\\driver\\webdriver\\__init__.py:493: FutureWarning: browser.find_link_by_partial_text is deprecated. Use browser.links.find_by_partial_text instead.\n",
      "  FutureWarning,\n"
     ]
    }
   ],
   "source": [
    "url = 'https://www.jpl.nasa.gov/spaceimages/?search=&category=Mars'\n",
    "browser.visit(url)\n",
    "browser.click_link_by_partial_text('FULL IMAGE')\n",
    "\n",
    "# Update the CURRENT html code in the browser\n",
    "html = browser.html\n",
    "img_soup = bsoup(html, 'html.parser')"
   ]
  },
  {
   "cell_type": "code",
   "execution_count": 14,
   "metadata": {},
   "outputs": [
    {
     "data": {
      "text/plain": [
       "{'featured_image': 'https://www.jpl.nasa.gov/spaceimages/images/mediumsize/PIA19964_ip.jpg'}"
      ]
     },
     "execution_count": 14,
     "metadata": {},
     "output_type": "execute_result"
    }
   ],
   "source": [
    "# time.sleep(3)\n",
    "results2 = browser.find_by_css('img[class=\"fancybox-image\"]').first\n",
    "NASA_image_dict = {}\n",
    "NASA_image_dict[\"featured_image\"] = (results2['src'])\n",
    "NASA_image_dict"
   ]
  },
  {
   "cell_type": "markdown",
   "metadata": {},
   "source": [
    "### Define URL to scrape and inform the browser to visit the page and scrape table of facts"
   ]
  },
  {
   "cell_type": "code",
   "execution_count": 117,
   "metadata": {},
   "outputs": [
    {
     "data": {
      "text/plain": [
       "'<table border=\"1\" class=\"dataframe\">\\n  <thead>\\n    <tr style=\"text-align: right;\">\\n      <th></th>\\n      <th>0</th>\\n      <th>1</th>\\n    </tr>\\n  </thead>\\n  <tbody>\\n    <tr>\\n      <th>0</th>\\n      <td>Equatorial Diameter:</td>\\n      <td>6,792 km</td>\\n    </tr>\\n    <tr>\\n      <th>1</th>\\n      <td>Polar Diameter:</td>\\n      <td>6,752 km</td>\\n    </tr>\\n    <tr>\\n      <th>2</th>\\n      <td>Mass:</td>\\n      <td>6.39 × 10^23 kg (0.11 Earths)</td>\\n    </tr>\\n    <tr>\\n      <th>3</th>\\n      <td>Moons:</td>\\n      <td>2 (Phobos &amp; Deimos)</td>\\n    </tr>\\n    <tr>\\n      <th>4</th>\\n      <td>Orbit Distance:</td>\\n      <td>227,943,824 km (1.38 AU)</td>\\n    </tr>\\n    <tr>\\n      <th>5</th>\\n      <td>Orbit Period:</td>\\n      <td>687 days (1.9 years)</td>\\n    </tr>\\n    <tr>\\n      <th>6</th>\\n      <td>Surface Temperature:</td>\\n      <td>-87 to -5 °C</td>\\n    </tr>\\n    <tr>\\n      <th>7</th>\\n      <td>First Record:</td>\\n      <td>2nd millennium BC</td>\\n    </tr>\\n    <tr>\\n      <th>8</th>\\n      <td>Recorded By:</td>\\n      <td>Egyptian astronomers</td>\\n    </tr>\\n  </tbody>\\n</table>'"
      ]
     },
     "execution_count": 117,
     "metadata": {},
     "output_type": "execute_result"
    }
   ],
   "source": [
    "df = pd.read_html(\"https://space-facts.com/mars/\")\n",
    "len(df)\n",
    "Mars_facts_df = df[0]\n",
    "Mars_facts_df.to_html()"
   ]
  },
  {
   "cell_type": "markdown",
   "metadata": {},
   "source": [
    "### Define URL to scrape and inform the browser to visit the page and scrape hemisphere photographs"
   ]
  },
  {
   "cell_type": "code",
   "execution_count": 17,
   "metadata": {},
   "outputs": [],
   "source": [
    "executable_path = {'executable_path': 'chromedriver.exe'}\n",
    "browser = Browser('chrome', **executable_path, headless=False)"
   ]
  },
  {
   "cell_type": "code",
   "execution_count": 19,
   "metadata": {},
   "outputs": [
    {
     "data": {
      "text/plain": [
       "{'Cerberus Hemisphere Enhanced': 'https://astrogeology.usgs.gov//cache/images/f5e372a36edfa389625da6d0cc25d905_cerberus_enhanced.tif_full.jpg',\n",
       " 'Schiaparelli Hemisphere Enhanced': 'https://astrogeology.usgs.gov//cache/images/3778f7b43bbbc89d6e3cfabb3613ba93_schiaparelli_enhanced.tif_full.jpg',\n",
       " 'Syrtis Major Hemisphere Enhanced': 'https://astrogeology.usgs.gov//cache/images/555e6403a6ddd7ba16ddb0e471cadcf7_syrtis_major_enhanced.tif_full.jpg',\n",
       " 'Valles Marineris Hemisphere Enhanced': 'https://astrogeology.usgs.gov//cache/images/b3c7c6c9138f57b4756be9b9c43e3a48_valles_marineris_enhanced.tif_full.jpg'}"
      ]
     },
     "execution_count": 19,
     "metadata": {},
     "output_type": "execute_result"
    }
   ],
   "source": [
    "Hemisphere_List = [\"Cerberus Hemisphere Enhanced\", \"Schiaparelli Hemisphere Enhanced\", \"Syrtis Major Hemisphere Enhanced\", \"Valles Marineris Hemisphere Enhanced\"]\n",
    "NASA_Mars_Hemisphere_Dict = {}\n",
    "base_url = \"https://astrogeology.usgs.gov/\"\n",
    "for x in Hemisphere_List:\n",
    "    url = 'https://astrogeology.usgs.gov/search/results?q=hemisphere+enhanced&k1=target&v1=Mars'\n",
    "    time.sleep(2)\n",
    "    browser.visit(url)\n",
    "    time.sleep(2)\n",
    "    browser.click_link_by_partial_text(x)\n",
    "    time.sleep(2)\n",
    "    browser.click_link_by_partial_text(\"Open\")\n",
    "    time.sleep(2)\n",
    "\n",
    "    # Update the CURRENT html code in the browser\n",
    "    html = browser.html\n",
    "    img_soup = bsoup(html, 'html.parser')\n",
    "    time.sleep(2)\n",
    "    # results3 = img_soup.find(\"img\", {\"class_\": \"wide-image\"})\n",
    "    results3 = img_soup.find('img', class_='wide-image')\n",
    "    final_url = f\"https://astrogeology.usgs.gov/{results3['src']}\"\n",
    "    NASA_Mars_Hemisphere_Dict[x] = final_url\n",
    "\n",
    "NASA_Mars_Hemisphere_Dict\n"
   ]
  },
  {
   "cell_type": "code",
   "execution_count": null,
   "metadata": {},
   "outputs": [],
   "source": [
    "time.sleep(3)\n",
    "# results3 = img_soup.find(\"img\", {\"class_\": \"wide-image\"})\n",
    "results3 = img_soup.find('img', class_='wide-image')\n",
    "print(results3['src'])\n"
   ]
  },
  {
   "cell_type": "code",
   "execution_count": null,
   "metadata": {},
   "outputs": [],
   "source": [
    "# test = results3.find_all('src')\n",
    "# print(test)"
   ]
  },
  {
   "cell_type": "code",
   "execution_count": null,
   "metadata": {},
   "outputs": [],
   "source": []
  },
  {
   "cell_type": "code",
   "execution_count": null,
   "metadata": {},
   "outputs": [],
   "source": [
    "# THIS WORKS\n",
    "Hemisphere_List = [\"Cerberus Hemisphere Enhanced\", \"Schiaparelli Hemisphere Enhanced\", \"Syrtis Major Hemisphere Enhanced\", \"Valles Marineris Hemisphere Enhanced\"]\n",
    "url = 'https://astrogeology.usgs.gov/search/results?q=hemisphere+enhanced&k1=target&v1=Mars'\n",
    "browser.visit(url) \n",
    "browser.click_link_by_partial_text(\"Cerberus Hemisphere Enhanced\")\n",
    "time.sleep(3)\n",
    "browser.click_link_by_partial_text(\"Open\")\n",
    "\n",
    "# Update the CURRENT html code in the browser\n",
    "html = browser.html\n",
    "img_soup = bsoup(html, 'html.parser')\n",
    "time.sleep(3)\n",
    "# results3 = img_soup.find(\"img\", {\"class_\": \"wide-image\"})\n",
    "results3 = img_soup.find('img', class_='wide-image')\n",
    "print(results3['src'])"
   ]
  },
  {
   "cell_type": "code",
   "execution_count": null,
   "metadata": {},
   "outputs": [],
   "source": []
  },
  {
   "cell_type": "markdown",
   "metadata": {},
   "source": [
    "### Iterate over multiple pages and scrape content from each"
   ]
  },
  {
   "cell_type": "code",
   "execution_count": null,
   "metadata": {},
   "outputs": [],
   "source": [
    "# for i in range(100):\n",
    "#     html = browser.html\n",
    "#     soup = BeautifulSoup(html, 'html.parser')\n",
    "\n",
    "#     quotes = soup.find_all('span', class_='text')\n",
    "    \n",
    "#     print(f'PAGE: {i+1}')\n",
    "#     for q in quotes:\n",
    "#         print('----------')\n",
    "#         print(q.text)\n",
    "#     try:\n",
    "#         browser.click_link_by_partial_text(\"Next\")\n",
    "#     except:\n",
    "#         break"
   ]
  },
  {
   "cell_type": "markdown",
   "metadata": {},
   "source": [
    "### Close the browser window"
   ]
  },
  {
   "cell_type": "code",
   "execution_count": 2,
   "metadata": {},
   "outputs": [
    {
     "name": "stderr",
     "output_type": "stream",
     "text": [
      "C:\\ProgramData\\Anaconda3\\lib\\site-packages\\splinter\\driver\\webdriver\\__init__.py:493: FutureWarning: browser.find_link_by_partial_text is deprecated. Use browser.links.find_by_partial_text instead.\n",
      "  FutureWarning,\n"
     ]
    },
    {
     "name": "stdout",
     "output_type": "stream",
     "text": [
      "{'Mars_News_title': \"NASA's Perseverance Rover Is Midway to Mars\", 'Mars_News_paragraph': \"Sometimes half measures can be a good thing – especially on a journey this long. The agency's latest rover only has about 146 million miles left to reach its destination.\", 'Mars_featured_pics': {'featured_image': 'https://www.jpl.nasa.gov/spaceimages/images/mediumsize/PIA03519_ip.jpg'}, 'Mars_facts_table': '<table border=\"1\" class=\"dataframe\">\\n  <thead>\\n    <tr style=\"text-align: right;\">\\n      <th></th>\\n      <th>0</th>\\n      <th>1</th>\\n    </tr>\\n  </thead>\\n  <tbody>\\n    <tr>\\n      <th>0</th>\\n      <td>Equatorial Diameter:</td>\\n      <td>6,792 km</td>\\n    </tr>\\n    <tr>\\n      <th>1</th>\\n      <td>Polar Diameter:</td>\\n      <td>6,752 km</td>\\n    </tr>\\n    <tr>\\n      <th>2</th>\\n      <td>Mass:</td>\\n      <td>6.39 × 10^23 kg (0.11 Earths)</td>\\n    </tr>\\n    <tr>\\n      <th>3</th>\\n      <td>Moons:</td>\\n      <td>2 (Phobos &amp; Deimos)</td>\\n    </tr>\\n    <tr>\\n      <th>4</th>\\n      <td>Orbit Distance:</td>\\n      <td>227,943,824 km (1.38 AU)</td>\\n    </tr>\\n    <tr>\\n      <th>5</th>\\n      <td>Orbit Period:</td>\\n      <td>687 days (1.9 years)</td>\\n    </tr>\\n    <tr>\\n      <th>6</th>\\n      <td>Surface Temperature:</td>\\n      <td>-87 to -5 °C</td>\\n    </tr>\\n    <tr>\\n      <th>7</th>\\n      <td>First Record:</td>\\n      <td>2nd millennium BC</td>\\n    </tr>\\n    <tr>\\n      <th>8</th>\\n      <td>Recorded By:</td>\\n      <td>Egyptian astronomers</td>\\n    </tr>\\n  </tbody>\\n</table>', 'Mars_facts_Dict': {0: {0: 'Equatorial Diameter:', 1: 'Polar Diameter:', 2: 'Mass:', 3: 'Moons:', 4: 'Orbit Distance:', 5: 'Orbit Period:', 6: 'Surface Temperature:', 7: 'First Record:', 8: 'Recorded By:'}, 1: {0: '6,792 km', 1: '6,752 km', 2: '6.39 × 10^23 kg (0.11 Earths)', 3: '2 (Phobos & Deimos)', 4: '227,943,824 km (1.38 AU)', 5: '687 days (1.9 years)', 6: '-87 to -5 °C', 7: '2nd millennium BC', 8: 'Egyptian astronomers'}}, 'Mars_hemisphere_pics': {'Cerberus Hemisphere Enhanced': 'https://astrogeology.usgs.gov//cache/images/f5e372a36edfa389625da6d0cc25d905_cerberus_enhanced.tif_full.jpg', 'Schiaparelli Hemisphere Enhanced': 'https://astrogeology.usgs.gov//cache/images/3778f7b43bbbc89d6e3cfabb3613ba93_schiaparelli_enhanced.tif_full.jpg', 'Syrtis Major Hemisphere Enhanced': 'https://astrogeology.usgs.gov//cache/images/555e6403a6ddd7ba16ddb0e471cadcf7_syrtis_major_enhanced.tif_full.jpg', 'Valles Marineris Hemisphere Enhanced': 'https://astrogeology.usgs.gov//cache/images/b3c7c6c9138f57b4756be9b9c43e3a48_valles_marineris_enhanced.tif_full.jpg'}}\n"
     ]
    }
   ],
   "source": [
    "from splinter import Browser\n",
    "from bs4 import BeautifulSoup as bsoup\n",
    "import pandas as pd\n",
    "import datetime as dt\n",
    "import time\n",
    "\n",
    "def scrape_NASA_Mars():\n",
    "    executable_path = {'executable_path': 'chromedriver.exe'}\n",
    "    browser = Browser('chrome', **executable_path, headless=False)\n",
    "\n",
    "    url = 'https://mars.nasa.gov/news/?page=0&per_page=40&order=publish_date+desc%2Ccreated_at+desc&search=&category=19%2C165%2C184%2C204&blank_scope=Latest'\n",
    "    browser.visit(url)\n",
    "    html = browser.html\n",
    "    soup = bsoup(html,'html.parser')\n",
    "\n",
    "    results = soup.find_all('div', class_=\"content_title\")\n",
    "    title = (results[1].get_text().strip())\n",
    "    results = browser.find_by_css('div[class=\"article_teaser_body\"]')\n",
    "    paragraph = (results.text)\n",
    "\n",
    "    # Create a dictionary for Flask\n",
    "    NASA_News_dict = {}\n",
    "    NASA_News_dict = {\"news_title\": title, \"news_paragraph\": paragraph}\n",
    "\n",
    "    url = 'https://www.jpl.nasa.gov/spaceimages/?search=&category=Mars'\n",
    "    browser.visit(url)\n",
    "    browser.click_link_by_partial_text('FULL IMAGE')\n",
    "\n",
    "    # Update the CURRENT html code in the browser\n",
    "    html = browser.html\n",
    "    img_soup = bsoup(html, 'html.parser')\n",
    "\n",
    "    time.sleep(3)\n",
    "    results2 = browser.find_by_css('img[class=\"fancybox-image\"]').first\n",
    "    # Create a dictionary for Flask\n",
    "    NASA_image_dict = {}\n",
    "    NASA_image_dict[\"featured_image\"] = (results2['src'])\n",
    "\n",
    "    # Scrape table off the url and into a df\n",
    "    df = pd.read_html(\"https://space-facts.com/mars/\")\n",
    "    Mars_facts_df = df[0]\n",
    "    # Get table as a html for route\n",
    "    NASA_Mars_html = Mars_facts_df.to_html()\n",
    "    # Get table as a dict for route\n",
    "    NASA_Mars_dict = Mars_facts_df.to_dict()\n",
    "\n",
    "    Hemisphere_List = [\"Cerberus Hemisphere Enhanced\", \"Schiaparelli Hemisphere Enhanced\", \"Syrtis Major Hemisphere Enhanced\", \"Valles Marineris Hemisphere Enhanced\"]\n",
    "    NASA_Mars_Hemisphere_Dict = {}\n",
    "    base_url = \"https://astrogeology.usgs.gov/\"\n",
    "    for Hemisphere in Hemisphere_List:\n",
    "        url = 'https://astrogeology.usgs.gov/search/results?q=hemisphere+enhanced&k1=target&v1=Mars'\n",
    "        time.sleep(2)\n",
    "        browser.visit(url)\n",
    "        time.sleep(2)\n",
    "        browser.click_link_by_partial_text(Hemisphere)\n",
    "        time.sleep(2)\n",
    "        browser.click_link_by_partial_text(\"Open\")\n",
    "        time.sleep(2)\n",
    "\n",
    "        # Update the CURRENT html code in the browser\n",
    "        html = browser.html\n",
    "        img_soup = bsoup(html, 'html.parser')\n",
    "        time.sleep(2)\n",
    "        # results3 = img_soup.find(\"img\", {\"class_\": \"wide-image\"})\n",
    "        results3 = img_soup.find('img', class_='wide-image')\n",
    "        final_url = f\"https://astrogeology.usgs.gov/{results3['src']}\"\n",
    "        NASA_Mars_Hemisphere_Dict[Hemisphere] = final_url\n",
    "\n",
    "    Mars_data = {\n",
    "    'Mars_News_title': NASA_News_dict['news_title'],\n",
    "    'Mars_News_paragraph': NASA_News_dict['news_paragraph'],\n",
    "    'Mars_featured_pics': NASA_image_dict,\n",
    "    'Mars_facts_table': NASA_Mars_html,\n",
    "    'Mars_facts_Dict': NASA_Mars_dict,\n",
    "    'Mars_hemisphere_pics': NASA_Mars_Hemisphere_Dict\n",
    "    }\n",
    "    \n",
    "    return Mars_data\n",
    "\n",
    "if __name__==\"__main__\":\n",
    "    Mars_data = scrape_NASA_Mars()\n",
    "    print(Mars_data)"
   ]
  },
  {
   "cell_type": "code",
   "execution_count": 3,
   "metadata": {},
   "outputs": [
    {
     "data": {
      "text/plain": [
       "'<table border=\"1\" class=\"dataframe\">\\n  <thead>\\n    <tr style=\"text-align: right;\">\\n      <th></th>\\n      <th>0</th>\\n      <th>1</th>\\n    </tr>\\n  </thead>\\n  <tbody>\\n    <tr>\\n      <th>0</th>\\n      <td>Equatorial Diameter:</td>\\n      <td>6,792 km</td>\\n    </tr>\\n    <tr>\\n      <th>1</th>\\n      <td>Polar Diameter:</td>\\n      <td>6,752 km</td>\\n    </tr>\\n    <tr>\\n      <th>2</th>\\n      <td>Mass:</td>\\n      <td>6.39 × 10^23 kg (0.11 Earths)</td>\\n    </tr>\\n    <tr>\\n      <th>3</th>\\n      <td>Moons:</td>\\n      <td>2 (Phobos &amp; Deimos)</td>\\n    </tr>\\n    <tr>\\n      <th>4</th>\\n      <td>Orbit Distance:</td>\\n      <td>227,943,824 km (1.38 AU)</td>\\n    </tr>\\n    <tr>\\n      <th>5</th>\\n      <td>Orbit Period:</td>\\n      <td>687 days (1.9 years)</td>\\n    </tr>\\n    <tr>\\n      <th>6</th>\\n      <td>Surface Temperature:</td>\\n      <td>-87 to -5 °C</td>\\n    </tr>\\n    <tr>\\n      <th>7</th>\\n      <td>First Record:</td>\\n      <td>2nd millennium BC</td>\\n    </tr>\\n    <tr>\\n      <th>8</th>\\n      <td>Recorded By:</td>\\n      <td>Egyptian astronomers</td>\\n    </tr>\\n  </tbody>\\n</table>'"
      ]
     },
     "execution_count": 3,
     "metadata": {},
     "output_type": "execute_result"
    }
   ],
   "source": [
    "Mars_data['Mars_facts_table']"
   ]
  },
  {
   "cell_type": "code",
   "execution_count": 135,
   "metadata": {},
   "outputs": [
    {
     "data": {
      "text/plain": [
       "'https://astrogeology.usgs.gov//cache/images/f5e372a36edfa389625da6d0cc25d905_cerberus_enhanced.tif_full.jpg'"
      ]
     },
     "execution_count": 135,
     "metadata": {},
     "output_type": "execute_result"
    }
   ],
   "source": [
    "Mars_data['Mars_hemisphere_pics']['Cerberus Hemisphere Enhanced']"
   ]
  },
  {
   "cell_type": "code",
   "execution_count": 6,
   "metadata": {},
   "outputs": [
    {
     "data": {
      "text/plain": [
       "\"NASA's Perseverance Rover Is Midway to Mars\""
      ]
     },
     "execution_count": 6,
     "metadata": {},
     "output_type": "execute_result"
    }
   ],
   "source": [
    "Mars_data['Mars_News_title']"
   ]
  },
  {
   "cell_type": "code",
   "execution_count": 7,
   "metadata": {},
   "outputs": [
    {
     "data": {
      "text/plain": [
       "\"Sometimes half measures can be a good thing – especially on a journey this long. The agency's latest rover only has about 146 million miles left to reach its destination.\""
      ]
     },
     "execution_count": 7,
     "metadata": {},
     "output_type": "execute_result"
    }
   ],
   "source": [
    "Mars_data['Mars_News_paragraph']"
   ]
  },
  {
   "cell_type": "code",
   "execution_count": null,
   "metadata": {},
   "outputs": [],
   "source": [
    "Mars_data\n",
    "Marss_data = scrape_NASA_Mars()\n",
    "Marss_data = Mars_data{}\n",
    "Marss_data = {}\n",
    "Ma"
   ]
  }
 ],
 "metadata": {
  "kernelspec": {
   "display_name": "Python 3",
   "language": "python",
   "name": "python3"
  },
  "language_info": {
   "codemirror_mode": {
    "name": "ipython",
    "version": 3
   },
   "file_extension": ".py",
   "mimetype": "text/x-python",
   "name": "python",
   "nbconvert_exporter": "python",
   "pygments_lexer": "ipython3",
   "version": "3.7.4"
  },
  "varInspector": {
   "cols": {
    "lenName": 16,
    "lenType": 16,
    "lenVar": 40
   },
   "kernels_config": {
    "python": {
     "delete_cmd_postfix": "",
     "delete_cmd_prefix": "del ",
     "library": "var_list.py",
     "varRefreshCmd": "print(var_dic_list())"
    },
    "r": {
     "delete_cmd_postfix": ") ",
     "delete_cmd_prefix": "rm(",
     "library": "var_list.r",
     "varRefreshCmd": "cat(var_dic_list()) "
    }
   },
   "types_to_exclude": [
    "module",
    "function",
    "builtin_function_or_method",
    "instance",
    "_Feature"
   ],
   "window_display": false
  }
 },
 "nbformat": 4,
 "nbformat_minor": 4
}
